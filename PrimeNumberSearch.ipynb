{
  "nbformat": 4,
  "nbformat_minor": 0,
  "metadata": {
    "colab": {
      "provenance": [],
      "authorship_tag": "ABX9TyMvASZCAHKncH3GKIWCYk+w",
      "include_colab_link": true
    },
    "kernelspec": {
      "name": "python3",
      "display_name": "Python 3"
    },
    "language_info": {
      "name": "python"
    }
  },
  "cells": [
    {
      "cell_type": "markdown",
      "metadata": {
        "id": "view-in-github",
        "colab_type": "text"
      },
      "source": [
        "<a href=\"https://colab.research.google.com/github/Sauxer11/optimization_umg/blob/main/PrimeNumberSearch.ipynb\" target=\"_parent\"><img src=\"https://colab.research.google.com/assets/colab-badge.svg\" alt=\"Open In Colab\"/></a>"
      ]
    },
    {
      "cell_type": "markdown",
      "source": [
        "# **Prime Number Search**\n",
        "\n",
        "**Description:** Code for searching a prime number in a set of numbers"
      ],
      "metadata": {
        "id": "hqprra2l-GrC"
      }
    },
    {
      "cell_type": "code",
      "execution_count": 10,
      "metadata": {
        "colab": {
          "base_uri": "https://localhost:8080/"
        },
        "id": "bZZ6g4gE6_Mx",
        "outputId": "619d7ff6-7397-458c-b7d7-a6d108ed4a68"
      },
      "outputs": [
        {
          "output_type": "stream",
          "name": "stdout",
          "text": [
            "7\n",
            "17\n",
            "29\n",
            "41\n",
            "67\n"
          ]
        }
      ],
      "source": [
        "P = [2,7,12,17,21,29,32,41,67,82]\n",
        "\n",
        "for x in P:\n",
        "    if(x % 2 != 0 and x % 3 != 0 and x % 5 != 0) :\n",
        "        print(x)"
      ]
    }
  ]
}