{
  "nbformat": 4,
  "nbformat_minor": 0,
  "metadata": {
    "colab": {
      "provenance": [],
      "authorship_tag": "ABX9TyMgF+jpeLedYQy45fvX8Ggc",
      "include_colab_link": true
    },
    "kernelspec": {
      "name": "python3",
      "display_name": "Python 3"
    },
    "language_info": {
      "name": "python"
    }
  },
  "cells": [
    {
      "cell_type": "markdown",
      "metadata": {
        "id": "view-in-github",
        "colab_type": "text"
      },
      "source": [
        "<a href=\"https://colab.research.google.com/github/Sauxer11/optimization_umg/blob/main/PrimeNumbers.ipynb\" target=\"_parent\"><img src=\"https://colab.research.google.com/assets/colab-badge.svg\" alt=\"Open In Colab\"/></a>"
      ]
    },
    {
      "cell_type": "markdown",
      "source": [],
      "metadata": {
        "id": "kHLZKtGnGDLB"
      }
    },
    {
      "cell_type": "markdown",
      "source": [
        "## Prime Number Search\n",
        "\n",
        "An algorithm to find prime numbers given an input array"
      ],
      "metadata": {
        "id": "e2J-flYZGDsl"
      }
    },
    {
      "cell_type": "code",
      "source": [
        "A = [1,2,3,4,5,6,7,8,9,10]\n",
        "print(A)"
      ],
      "metadata": {
        "colab": {
          "base_uri": "https://localhost:8080/"
        },
        "id": "q5HYM4iRGRIA",
        "outputId": "35fcf927-11e1-4047-fb76-8ad99730a090"
      },
      "execution_count": 1,
      "outputs": [
        {
          "output_type": "stream",
          "name": "stdout",
          "text": [
            "[1, 2, 3, 4, 5, 6, 7, 8, 9, 10]\n"
          ]
        }
      ]
    },
    {
      "cell_type": "code",
      "source": [
        "for x in A:\n",
        "  if(x % 2 == 0):\n",
        "    print(\"Find!\", x)\n"
      ],
      "metadata": {
        "colab": {
          "base_uri": "https://localhost:8080/"
        },
        "id": "UmvzlYeTGd6p",
        "outputId": "5e77f8cb-ee52-4ffa-e1b2-4712a919bacc"
      },
      "execution_count": 2,
      "outputs": [
        {
          "output_type": "stream",
          "name": "stdout",
          "text": [
            "Find! 2\n",
            "Find! 4\n",
            "Find! 6\n",
            "Find! 8\n",
            "Find! 10\n"
          ]
        }
      ]
    },
    {
      "cell_type": "code",
      "source": [],
      "metadata": {
        "id": "aV8eltxPHPCC"
      },
      "execution_count": null,
      "outputs": []
    }
  ]
}